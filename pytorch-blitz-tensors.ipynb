{
 "cells": [
  {
   "cell_type": "code",
   "execution_count": 1,
   "id": "induced-terry",
   "metadata": {},
   "outputs": [],
   "source": [
    "## Notebook used for examples and exploration while going through the \"Deep Learning with PyTorch: A 60 Minute Blitz\"\n",
    " # https://pytorch.org/tutorials/beginner/deep_learning_60min_blitz.html\n",
    " # "
   ]
  },
  {
   "cell_type": "code",
   "execution_count": 33,
   "id": "fiscal-bahamas",
   "metadata": {},
   "outputs": [],
   "source": [
    "## Part 1: Tensors\n",
    "import torch\n",
    "import numpy as np\n",
    "PRINT_STAGES=False  # Enables the printing of intermediate variables created during the tutorial"
   ]
  },
  {
   "cell_type": "code",
   "execution_count": 2,
   "id": "indonesian-onion",
   "metadata": {},
   "outputs": [],
   "source": [
    "# Tensors encode input and output of model. \"Similiar to\" ndarray (apparently no array implementation will ever be good enough for python developers)\n",
    "\n",
    "# Native data types\n",
    "data = [[1,2],[3,4]]\n",
    "x_data = torch.tensor(data)\n",
    "if PRINT_STAGES: print(x_data)\n",
    "\n",
    "# Friendly numpy types\n",
    "np_data = np.array([[1,2], [3,4]])\n",
    "x_np = torch.tensor(np_data)\n",
    "if PRINT_STAGES: print(x_np)\n",
    "\n",
    "# Becaues if tensorflow wraps np.ones, so must torch\n",
    "x_ones = torch.ones_like(x_np)\n",
    "x_float_ones = torch.ones_like(x_np, dtype=torch.float)\n",
    "if PRINT_STAGES: print(x_ones)\n",
    "    \n",
    "# We can define a shape and then ask for a tensor in that shape\n",
    "shape = (2,3)\n",
    "rand_tensor = torch.rand(shape)\n",
    "ones_tensor = torch.ones(shape)\n",
    "zeroes_tensor = torch.zeros(shape)\n",
    "if PRINT_STAGES: print(f\"{rand_tensor}\\n{ones_tensor}\\n{zeroes_tensor}\")"
   ]
  },
  {
   "cell_type": "code",
   "execution_count": 3,
   "id": "technological-somewhere",
   "metadata": {},
   "outputs": [],
   "source": [
    "# Attributes of tensors\n",
    "t_shape = rand_tensor.shape\n",
    "t_dtype = rand_tensor.dtype\n",
    "t_device = rand_tensor.device\n",
    "if PRINT_STAGES: print(f\"shape: {t_shape}\\ndtype: {t_dtype}\\nstorage location: {t_device}\")"
   ]
  },
  {
   "cell_type": "code",
   "execution_count": 41,
   "id": "suburban-potential",
   "metadata": {},
   "outputs": [],
   "source": [
    "# Tensor Operations\n",
    "tensor = torch.rand(2,2)\n",
    "if torch.cuda.is_available(): # if only WSL made this easy\n",
    "    tensor = tensor.to('cuda') \n",
    "\n",
    "# Obviously there are a whole bunch of tensor operations. Meet the whole gang here: https://pytorch.org/docs/stable/torch.html\n",
    "\n",
    "## A lot of tensor operations are similiar to numpy\n",
    "# Indexing/Slicing\n",
    "tensor = torch.rand(6,6)\n",
    "if PRINT_STAGES: print(tensor)\n",
    "first_row = tensor[:1]\n",
    "if PRINT_STAGES: print(f\"[:1]: {first_row}\")\n",
    "first_col = tensor[:,0]\n",
    "if PRINT_STAGES: print(f\"[:,0]: {first_col}\")\n",
    "tensor[:,0] = 100\n",
    "if PRINT_STAGES: print(f\"[:,0]: {first_col}\")\n",
    "if PRINT_STAGES: print(f\"[:,1]: {first_row}\")\n",
    "\n",
    "# Joining\n",
    "t1 = torch.cat([tensor, tensor, tensor], dim=0)\n",
    "if PRINT_STAGES: print(tensor)\n",
    "if PRINT_STAGES: print(t1)\n",
    "    \n",
    "# Multiplying\n",
    "tensor = torch.tensor([[2,2,2], [3,3,3], [4,4,4]])\n",
    "mult = tensor.mul(tensor)  # element wise multiplication\n",
    "mult = tensor * tensor  # equivalent\n",
    "if PRINT_STAGES: print(f\"Tensor:{tensor}\\nTensor*Tensor:{mult}\")\n",
    "matmul1 = tensor.matmul(tensor)\n",
    "matmul2 = tensor.matmul(tensor.T)\n",
    "if PRINT_STAGES: print(f\"Tensor: \\n{tensor}\\nTensor.matmul(Tensor): \\n{matmul1}\\nTensor.matmul(Tensor.T): \\n{matmul2}\")\n",
    "\n",
    "# In-place operations\n",
    "# Look for _ suffix to modify in place\n",
    "tensor = torch.ones(2,2)\n",
    "if PRINT_STAGES: print(f\"Tensor:\\n{tensor}\\nTensor.add_(1):\\n{tensor.add_(1)}\")"
   ]
  },
  {
   "cell_type": "code",
   "execution_count": 58,
   "id": "fiscal-heart",
   "metadata": {},
   "outputs": [],
   "source": [
    "# Small note on numpy -- we can get a numpy object that shares the same memory as the tensor\n",
    "tensor = torch.ones(2,2)\n",
    "n = tensor.numpy()\n",
    "tensor.add_(2)\n",
    "n[:,1] = 0\n",
    "if PRINT_STAGES: print(tensor)\n",
    "tensor = torch.from_numpy(np.ones([3,3]))  # We can also do this\n",
    "if PRINT_STAGES: print(tensor)"
   ]
  },
  {
   "cell_type": "code",
   "execution_count": 56,
   "id": "alone-legislation",
   "metadata": {},
   "outputs": [
    {
     "data": {
      "text/plain": [
       "array([[1., 1., 1.],\n",
       "       [1., 1., 1.],\n",
       "       [1., 1., 1.]])"
      ]
     },
     "execution_count": 56,
     "metadata": {},
     "output_type": "execute_result"
    }
   ],
   "source": []
  },
  {
   "cell_type": "code",
   "execution_count": null,
   "id": "racial-republican",
   "metadata": {},
   "outputs": [],
   "source": []
  }
 ],
 "metadata": {
  "kernelspec": {
   "display_name": "Python 3",
   "language": "python",
   "name": "python3"
  },
  "language_info": {
   "codemirror_mode": {
    "name": "ipython",
    "version": 3
   },
   "file_extension": ".py",
   "mimetype": "text/x-python",
   "name": "python",
   "nbconvert_exporter": "python",
   "pygments_lexer": "ipython3",
   "version": "3.8.5"
  }
 },
 "nbformat": 4,
 "nbformat_minor": 5
}

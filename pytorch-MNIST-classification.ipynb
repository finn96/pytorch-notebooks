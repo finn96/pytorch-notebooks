{
 "cells": [
  {
   "cell_type": "code",
   "execution_count": 101,
   "id": "systematic-excuse",
   "metadata": {},
   "outputs": [],
   "source": [
    "import torch\n",
    "import torchvision\n",
    "import torchvision.transforms as transforms"
   ]
  },
  {
   "cell_type": "code",
   "execution_count": 102,
   "id": "rolled-return",
   "metadata": {},
   "outputs": [],
   "source": [
    "transform = transforms.Compose([transforms.Pad(2),transforms.ToTensor()]) # Convert from PILImages to tensors\n",
    "trainset = torchvision.datasets.MNIST(root='./data', train=True, download=True, transform=transform)"
   ]
  },
  {
   "cell_type": "code",
   "execution_count": 103,
   "id": "worthy-astrology",
   "metadata": {},
   "outputs": [],
   "source": [
    "trainloader = torch.utils.data.DataLoader(trainset, batch_size=4, shuffle=True)"
   ]
  },
  {
   "cell_type": "code",
   "execution_count": 104,
   "id": "viral-blade",
   "metadata": {},
   "outputs": [
    {
     "name": "stdout",
     "output_type": "stream",
     "text": [
      "(4, 1, 32, 32)\n",
      "tensor([8, 2, 2, 6])\n"
     ]
    },
    {
     "data": {
      "image/png": "[encoded data removed]",
      "text/plain": [
       "<Figure size 432x288 with 1 Axes>"
      ]
     },
     "metadata": {
      "needs_background": "light"
     },
     "output_type": "display_data"
    }
   ],
   "source": [
    "import matplotlib.pyplot as plt\n",
    "import numpy as np\n",
    "\n",
    "dataiter = iter(trainloader)\n",
    "img, labels = dataiter.next()\n",
    "npimg = img.numpy()\n",
    "print(npimg.shape)\n",
    "npimg[0].shape\n",
    "plt.imshow(npimg[1][0], cmap='gray')\n",
    "print(labels)"
   ]
  },
  {
   "cell_type": "code",
   "execution_count": 105,
   "id": "special-mitchell",
   "metadata": {},
   "outputs": [],
   "source": [
    "import torch\n",
    "import torch.nn as nn\n",
    "import torch.nn.functional as F\n",
    "import torch.optim as optim\n",
    "class Net(nn.Module):\n",
    "    \n",
    "    def __init__(self):\n",
    "        super(Net, self).__init__()\n",
    "        # 1 input image channel, 6 output channels, 3x3 square convolution kernel\n",
    "        # Note: Nice review on kernel sizing here: https://stats.stackexchange.com/questions/296679/what-does-kernel-size-mean/296701\n",
    "        self.conv1 = nn.Conv2d(1,6,3)\n",
    "        self.conv2 = nn.Conv2d(6, 16, 3)\n",
    "        \n",
    "        # an affine operation: y = Wx + b\n",
    "        self.fc1 = nn.Linear(16 * 6 * 6, 120)  # Output * Conv2 input * Conv1 output\n",
    "        self.fc2 = nn.Linear(120, 84)\n",
    "        self.fc3 = nn.Linear(84, 10)  # 10 output features representing the digit being 0...9\n",
    "    \n",
    "    def forward(self, x):\n",
    "        # Max pooling over a (2,2) window\n",
    "        # Note: https://machinelearningmastery.com/rectified-linear-activation-function-for-deep-learning-neural-networks/\n",
    "        x = F.max_pool2d(F.relu(self.conv1(x)), (2,2))\n",
    "        # If the size is a square you can only specify a single number\n",
    "        x = F.max_pool2d(F.relu(self.conv2(x)), 2)\n",
    "        x = x.view(-1, self.num_flat_features(x))\n",
    "        x = F.relu(self.fc1(x))\n",
    "        x = F.relu(self.fc2(x))\n",
    "        x = self.fc3(x)\n",
    "        return x\n",
    "    \n",
    "    def num_flat_features(self, x):\n",
    "        size = x.size()[1:] # All features except the batch dimension\n",
    "        num_features = 1\n",
    "        for s in size:\n",
    "            num_features *= s\n",
    "        return num_features"
   ]
  },
  {
   "cell_type": "code",
   "execution_count": 113,
   "id": "herbal-vegetarian",
   "metadata": {},
   "outputs": [
    {
     "ename": "SyntaxError",
     "evalue": "invalid syntax (<ipython-input-113-98d9ac09d786>, line 6)",
     "output_type": "error",
     "traceback": [
      "\u001b[0;36m  File \u001b[0;32m\"<ipython-input-113-98d9ac09d786>\"\u001b[0;36m, line \u001b[0;32m6\u001b[0m\n\u001b[0;31m    for epoch in range(2)\"\"\u001b[0m\n\u001b[0m                         ^\u001b[0m\n\u001b[0;31mSyntaxError\u001b[0m\u001b[0;31m:\u001b[0m invalid syntax\n"
     ]
    }
   ],
   "source": [
    "net = Net()\n",
    "criterion = nn.MSELoss()\n",
    "optimizer = optim.SGD(net.parameters(), lr=0.01)"
   ]
  },
  {
   "cell_type": "code",
   "execution_count": 114,
   "id": "advisory-proxy",
   "metadata": {},
   "outputs": [
    {
     "name": "stdout",
     "output_type": "stream",
     "text": [
      "finished training\n"
     ]
    }
   ],
   "source": [
    "running_loss = 0\n",
    "for epoch in range(2):\n",
    "    for i, data in enumerate(trainloader, 0):\n",
    "        imgs, labels = data\n",
    "        targets = torch.zeros(len(labels), 10)\n",
    "        for i, label in enumerate(labels):\n",
    "            targets[i][label] = 1\n",
    "        optimizer.zero_grad()\n",
    "        outputs = net(imgs)\n",
    "        loss = criterion(outputs,targets)\n",
    "        loss.backward()\n",
    "        optimizer.step()\n",
    "\n",
    "print(\"finished training\")"
   ]
  },
  {
   "cell_type": "code",
   "execution_count": 117,
   "id": "specified-healing",
   "metadata": {},
   "outputs": [
    {
     "name": "stdout",
     "output_type": "stream",
     "text": [
      "(4, 1, 32, 32)\n",
      "tensor([3, 5, 7, 4])\n"
     ]
    },
    {
     "data": {
      "image/png": "[encoded data removed]",
      "text/plain": [
       "<Figure size 432x288 with 1 Axes>"
      ]
     },
     "metadata": {
      "needs_background": "light"
     },
     "output_type": "display_data"
    }
   ],
   "source": [
    "npimg = img.numpy()\n",
    "print(npimg.shape)\n",
    "npimg[0].shape\n",
    "plt.imshow(npimg[1][0], cmap='gray')\n",
    "print(labels)"
   ]
  },
  {
   "cell_type": "code",
   "execution_count": 118,
   "id": "corrected-guatemala",
   "metadata": {},
   "outputs": [
    {
     "data": {
      "text/plain": [
       "tensor([[-0.0107,  0.0058,  1.2195, -0.0838,  0.0042, -0.0624, -0.0308, -0.0077,\n",
       "         -0.0825,  0.0121]], grad_fn=<AddmmBackward>)"
      ]
     },
     "execution_count": 118,
     "metadata": {},
     "output_type": "execute_result"
    }
   ],
   "source": [
    "net(img[1].unsqueeze(0))"
   ]
  },
  {
   "cell_type": "code",
   "execution_count": 122,
   "id": "confirmed-northeast",
   "metadata": {},
   "outputs": [],
   "source": [
    "testset = torchvision.datasets.MNIST(root='./data', train=False, download=True, transform=transform)\n",
    "testloader = torch.utils.data.DataLoader(testset, batch_size=4, shuffle=True)"
   ]
  },
  {
   "cell_type": "code",
   "execution_count": null,
   "id": "psychological-privilege",
   "metadata": {},
   "outputs": [],
   "source": []
  },
  {
   "cell_type": "code",
   "execution_count": 163,
   "id": "homeless-first",
   "metadata": {},
   "outputs": [
    {
     "data": {
      "image/png": "[encoded data removed]",
      "text/plain": [
       "<Figure size 720x720 with 4 Axes>"
      ]
     },
     "metadata": {
      "needs_background": "light"
     },
     "output_type": "display_data"
    },
    {
     "name": "stdout",
     "output_type": "stream",
     "text": [
      "[tensor(5), tensor(8), tensor(5), tensor(7)]\n"
     ]
    }
   ],
   "source": [
    "\n",
    "testiter = iter(testloader)\n",
    "imgs, lables = next(testiter)\n",
    "\n",
    "fig = plt.figure(figsize=(10,10))\n",
    "out = []\n",
    "for i, img in enumerate(imgs):\n",
    "    res = net(img.unsqueeze(0))\n",
    "    out.append(torch.argmax(res))\n",
    "    fig.add_subplot(1, 4, i+1)\n",
    "    plt.text(i*2,50,\"Hello\")\n",
    "    plt.imshow(img.numpy()[0], cmap='gray')\n",
    "plt.show()\n",
    "print(out)"
   ]
  },
  {
   "cell_type": "code",
   "execution_count": null,
   "id": "peripheral-usage",
   "metadata": {},
   "outputs": [],
   "source": []
  }
 ],
 "metadata": {
  "kernelspec": {
   "display_name": "Python 3",
   "language": "python",
   "name": "python3"
  },
  "language_info": {
   "codemirror_mode": {
    "name": "ipython",
    "version": 3
   },
   "file_extension": ".py",
   "mimetype": "text/x-python",
   "name": "python",
   "nbconvert_exporter": "python",
   "pygments_lexer": "ipython3",
   "version": "3.8.5"
  }
 },
 "nbformat": 4,
 "nbformat_minor": 5
}

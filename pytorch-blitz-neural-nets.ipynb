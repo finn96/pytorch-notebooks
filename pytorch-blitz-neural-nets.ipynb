{
 "cells": [
  {
   "cell_type": "code",
   "execution_count": 1,
   "id": "unavailable-mason",
   "metadata": {},
   "outputs": [],
   "source": [
    "## Neural nets in pytorch\n",
    " # defined in torch.nn\n",
    " # relies on autograd to define models and differentiate them\n",
    " # nn.Module contains layers and a forward(input) method that returns the net's output"
   ]
  },
  {
   "cell_type": "code",
   "execution_count": 2,
   "id": "alive-token",
   "metadata": {},
   "outputs": [],
   "source": [
    "## Typical training procedure (we know most of this already, but always good to review)\n",
    " # Define the net that has some weights (learnable parameters)\n",
    " # Process some inputs through the network\n",
    " # Compute the loss for those inputs\n",
    " # Propogate gradients back to the paramters\n",
    " # Update the weights of the network using your sample rule (e.g. new_weight = old_weight - learning_rate * gradient)"
   ]
  },
  {
   "cell_type": "code",
   "execution_count": 29,
   "id": "cathedral-latest",
   "metadata": {},
   "outputs": [],
   "source": [
    "## We're going to build the classic digit image classifier :)\n",
    "import torch\n",
    "import torch.nn as nn\n",
    "import torch.nn.functional as F\n",
    "\n",
    "# Note: this is all but copy and pasted from the tutorial for the sake of time\n",
    "class Net(nn.Module):\n",
    "    \n",
    "    def __init__(self):\n",
    "        super(Net, self).__init__()\n",
    "        # 1 input image channel, 6 output channels, 3x3 square convolution kernel\n",
    "        # Note: Nice review on kernel sizing here: https://stats.stackexchange.com/questions/296679/what-does-kernel-size-mean/296701\n",
    "        self.conv1 = nn.Conv2d(1,6,3)\n",
    "        self.conv2 = nn.Conv2d(6, 16, 3)\n",
    "        \n",
    "        # an affine operation: y = Wx + b\n",
    "        self.fc1 = nn.Linear(16 * 6 * 6, 120)  # Output * Conv2 input * Conv1 output\n",
    "        self.fc2 = nn.Linear(120, 84)\n",
    "        self.fc3 = nn.Linear(84, 10)  # 10 output features representing the digit being 0...9\n",
    "    \n",
    "    def forward(self, x):\n",
    "        # Max pooling over a (2,2) window\n",
    "        # Note: https://machinelearningmastery.com/rectified-linear-activation-function-for-deep-learning-neural-networks/\n",
    "        x = F.max_pool2d(F.relu(self.conv1(x)), (2,2))\n",
    "        # If the size is a square you can only specify a single number\n",
    "        x = F.max_pool2d(F.relu(self.conv2(x)), 2)\n",
    "        x = x.view(-1, self.num_flat_features(x))\n",
    "        x = F.relu(self.fc1(x))\n",
    "        x = F.relu(self.fc2(x))\n",
    "        x = self.fc3(x)\n",
    "        return x\n",
    "    \n",
    "    def num_flat_features(self, x):\n",
    "        size = x.size()[1:] # All features except the batch dimension\n",
    "        num_features = 1\n",
    "        for s in size:\n",
    "            num_features *= s\n",
    "        return num_features        "
   ]
  },
  {
   "cell_type": "code",
   "execution_count": 31,
   "id": "foreign-haiti",
   "metadata": {},
   "outputs": [
    {
     "name": "stdout",
     "output_type": "stream",
     "text": [
      "10\n",
      "torch.Size([6, 1, 3, 3])\n"
     ]
    }
   ],
   "source": [
    "net = Net()\n",
    "params = list(net.parameters())\n",
    "print(len(params))\n",
    "print(params[0].size())  # Conv1's .weight"
   ]
  },
  {
   "cell_type": "code",
   "execution_count": 32,
   "id": "sunrise-identity",
   "metadata": {},
   "outputs": [],
   "source": [
    "# Let's try a random input of 32x32\n",
    "input = torch.randn(1, 32, 32).unsqueeze(0)\n",
    "out = net.forward(input)\n",
    "\n",
    "# Zero the gradient buffers and backprop random gradients\n",
    "net.zero_grad()\n",
    "out.backward(torch.randn(1,10))"
   ]
  },
  {
   "cell_type": "code",
   "execution_count": 33,
   "id": "decent-relations",
   "metadata": {},
   "outputs": [],
   "source": [
    "## !! Important !!\n",
    " #  \n",
    " # torch.nn only supports mini-batches. The entire torch.nn package only supports inputs that are a mini-batch of samples, and ##  not a single sample.\n",
    " # For example, nn.Conv2d will take in a 4D Tensor of nSamples x nChannels x Height x Width.\n",
    " # If you have a single sample, just use input.unsqueeze(0) to add a fake batch dimension."
   ]
  },
  {
   "cell_type": "code",
   "execution_count": 39,
   "id": "injured-communist",
   "metadata": {},
   "outputs": [
    {
     "name": "stdout",
     "output_type": "stream",
     "text": [
      "tensor(1.0706, grad_fn=<MseLossBackward>)\n"
     ]
    }
   ],
   "source": [
    "# Now we need to compute the loss and update the weights\n",
    "output = net(input)\n",
    "target = torch.randn(10)  # A dummy desired output (10 out features due to our net design)\n",
    "target = target.view(1, -1)  # Convert to match output shape\n",
    "criterion = nn.MSELoss()  # Use the built in mean squared error loss function\n",
    "loss = criterion(output, target)\n",
    "print(loss)"
   ]
  },
  {
   "cell_type": "code",
   "execution_count": 42,
   "id": "developing-indication",
   "metadata": {},
   "outputs": [
    {
     "name": "stdout",
     "output_type": "stream",
     "text": [
      "<MseLossBackward object at 0x7f7e2021ca00>\n",
      "<AddmmBackward object at 0x7f7e2021ca60>\n",
      "<AccumulateGrad object at 0x7f7e2021ca00>\n"
     ]
    }
   ],
   "source": [
    "# We can actually follow the differentiation back, starting at the loss\n",
    "print(loss.grad_fn)\n",
    "print(loss.grad_fn.next_functions[0][0])\n",
    "print(loss.grad_fn.next_functions[0][0].next_functions[0][0])"
   ]
  },
  {
   "cell_type": "code",
   "execution_count": 43,
   "id": "brave-workshop",
   "metadata": {
    "scrolled": true
   },
   "outputs": [
    {
     "name": "stdout",
     "output_type": "stream",
     "text": [
      "conv1.bias.grad initial:\n",
      "tensor([-0.0059, -0.0016, -0.0104,  0.0126,  0.0205,  0.0118])\n",
      "conv2.bias.grad after backprop:\n",
      "tensor([ 0.0147,  0.0099, -0.0152,  0.0056,  0.0343,  0.0246])\n"
     ]
    }
   ],
   "source": [
    "# Now we can examine gradient changes before and after backprop\n",
    "print(f\"conv1.bias.grad initial:\\n{net.conv1.bias.grad}\")\n",
    "\n",
    "loss.backward()\n",
    "\n",
    "print(f\"conv2.bias.grad after backprop:\\n{net.conv1.bias.grad}\")"
   ]
  },
  {
   "cell_type": "code",
   "execution_count": 44,
   "id": "intellectual-landscape",
   "metadata": {},
   "outputs": [],
   "source": [
    "# We can manually update the weights. This is easy for SGD simple rule: old_weight = new_weight - learning_rate * gradient\n",
    "learning_rate = 0.01\n",
    "for f in net.parameters():\n",
    "    f.data.sub_(f.grad.data * learning_rate)  # Updating the weight in place  '_'"
   ]
  },
  {
   "cell_type": "code",
   "execution_count": 45,
   "id": "random-catalyst",
   "metadata": {},
   "outputs": [],
   "source": [
    "# But, of course, torch makes this easy for us. Especially when we want more complex update rules.\n",
    "import torch.optim as optim\n",
    "optimizer = optim.SGD(net.parameters(), lr=0.01)\n",
    "\n",
    "# within the training loop\n",
    "output = net(input)\n",
    "loss = criterion(output, target)\n",
    "loss.backward()\n",
    "optimizer.step()"
   ]
  },
  {
   "cell_type": "code",
   "execution_count": null,
   "id": "according-thermal",
   "metadata": {},
   "outputs": [],
   "source": []
  }
 ],
 "metadata": {
  "kernelspec": {
   "display_name": "Python 3",
   "language": "python",
   "name": "python3"
  },
  "language_info": {
   "codemirror_mode": {
    "name": "ipython",
    "version": 3
   },
   "file_extension": ".py",
   "mimetype": "text/x-python",
   "name": "python",
   "nbconvert_exporter": "python",
   "pygments_lexer": "ipython3",
   "version": "3.8.5"
  }
 },
 "nbformat": 4,
 "nbformat_minor": 5
}

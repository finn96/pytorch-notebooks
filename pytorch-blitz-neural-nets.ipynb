{
 "cells": [
  {
   "cell_type": "code",
   "execution_count": 1,
   "id": "unavailable-mason",
   "metadata": {},
   "outputs": [],
   "source": [
    "## Neural nets in pytorch\n",
    " # defined in torch.nn\n",
    " # relies on autograd to define models and differentiate them\n",
    " # nn.Module contains layers and a forward(input) method that returns the net's output"
   ]
  },
  {
   "cell_type": "code",
   "execution_count": 2,
   "id": "alive-token",
   "metadata": {},
   "outputs": [],
   "source": [
    "## Typical training procedure (we know most of this already, but always good to review)\n",
    " # Define the net that has some weights (learnable parameters)\n",
    " # Process some inputs through the network\n",
    " # Compute the loss for those inputs\n",
    " # Propogate gradients back to the paramters\n",
    " # Update the weights of the network using your sample rule (e.g. new_weight = old_weight - learning_rate * gradient)"
   ]
  },
  {
   "cell_type": "code",
   "execution_count": 6,
   "id": "cathedral-latest",
   "metadata": {},
   "outputs": [],
   "source": [
    "## We're going to build the classic digit image classifier :)\n",
    "import torch\n",
    "import torch.nn as nn\n",
    "import torch.nn.functional as F\n",
    "\n",
    "# Note: this is all but copy and pasted from the tutorial for the sake of time\n",
    "class Net(nn.Module):\n",
    "    \n",
    "    def __init__(self):\n",
    "        super(Net, self).__init__()\n",
    "        # 1 input image channel, 6 output channels, 3x3 square convolution kernel\n",
    "        # TODO: !DF! Quick review on kernel sizing here: https://stats.stackexchange.com/questions/296679/what-does-kernel-size-mean/296701\n",
    "        self.conv1 = nn.Conv2d(1,6,3)\n",
    "        self.conv2 = nn.Conv2d(6, 16, 3)\n",
    "        \n",
    "        # an affine operation: y = Wx + b\n",
    "        self.fc1 = nn.Linear(16 * 6 * 6, 120)  # Output * Conv2 input * Conv1 output\n",
    "        self.fc2 = nn.Linear(120, 84)\n",
    "        self.fc3 = nn.Linear(84, 10)  # 10 output features representing the digit being 0...9\n",
    "    \n",
    "    def forward(self, x):\n",
    "        # Max pooling over a (2,2) window\n",
    "        # TODO: !DF! Review on ReLu here: https://machinelearningmastery.com/rectified-linear-activation-function-for-deep-learning-neural-networks/\n",
    "        x = F.max_pool2d(F.relu(self.conv1(x)), (2,2))\n",
    "        # If the size is a square you can only specify a single number\n",
    "        x = F.max_pool2d(F.relu(self.conv2(x)), 2)\n",
    "        x = x.view(-1, self.num_flat_features(x))\n",
    "        x = F.relu(self.fc1(x))\n",
    "        x = F.relu(self.fc2(x))\n",
    "        x = self.fc3(x)\n",
    "        return x\n",
    "    \n",
    "    def num_flat_features(self, x):\n",
    "        size = x.size()[1:] # All features except the batch dimension\n",
    "        num_features = 1\n",
    "        for s in size:\n",
    "            num_features *= s\n",
    "        return num_features        "
   ]
  },
  {
   "cell_type": "code",
   "execution_count": 27,
   "id": "foreign-haiti",
   "metadata": {},
   "outputs": [
    {
     "name": "stdout",
     "output_type": "stream",
     "text": [
      "10\n",
      "torch.Size([6, 1, 3, 3])\n"
     ]
    }
   ],
   "source": [
    "net = Net()\n",
    "params = list(net.parameters())\n",
    "print(len(params))\n",
    "print(params[0].size())  # Conv1's .weight"
   ]
  },
  {
   "cell_type": "code",
   "execution_count": 34,
   "id": "sunrise-identity",
   "metadata": {},
   "outputs": [
    {
     "data": {
      "text/plain": [
       "tensor([[ 0.1279, -0.0395,  0.0909, -0.0368,  0.0572,  0.0068,  0.0393,  0.0672,\n",
       "         -0.0743, -0.1268]], grad_fn=<AddmmBackward>)"
      ]
     },
     "execution_count": 34,
     "metadata": {},
     "output_type": "execute_result"
    }
   ],
   "source": [
    "# Let's try a random input of 32x32\n",
    "input = torch.randn(1, 32, 32).unsqueeze(0)\n",
    "out = net.forward(input)\n",
    "out"
   ]
  },
  {
   "cell_type": "code",
   "execution_count": 22,
   "id": "convenient-sewing",
   "metadata": {},
   "outputs": [
    {
     "data": {
      "text/plain": [
       "36.0"
      ]
     },
     "execution_count": 22,
     "metadata": {},
     "output_type": "execute_result"
    }
   ],
   "source": [
    "576 / 16"
   ]
  },
  {
   "cell_type": "code",
   "execution_count": null,
   "id": "decent-relations",
   "metadata": {},
   "outputs": [],
   "source": []
  }
 ],
 "metadata": {
  "kernelspec": {
   "display_name": "Python 3",
   "language": "python",
   "name": "python3"
  },
  "language_info": {
   "codemirror_mode": {
    "name": "ipython",
    "version": 3
   },
   "file_extension": ".py",
   "mimetype": "text/x-python",
   "name": "python",
   "nbconvert_exporter": "python",
   "pygments_lexer": "ipython3",
   "version": "3.8.5"
  }
 },
 "nbformat": 4,
 "nbformat_minor": 5
}

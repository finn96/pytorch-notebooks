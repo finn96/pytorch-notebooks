{
 "cells": [
  {
   "cell_type": "code",
   "execution_count": 1,
   "id": "induced-terry",
   "metadata": {},
   "outputs": [],
   "source": [
    "## Notebook used for examples and exploration while going through the \"Deep Learning with PyTorch: A 60 Minute Blitz\"\n",
    " # https://pytorch.org/tutorials/beginner/deep_learning_60min_blitz.html\n",
    " # "
   ]
  },
  {
   "cell_type": "code",
   "execution_count": 53,
   "id": "fiscal-bahamas",
   "metadata": {},
   "outputs": [],
   "source": [
    "# Part 1: Tensors\n",
    "import torch\n",
    "import numpy as np\n",
    "PRINT_STAGES=True  # Enables the printing of intermediate variables created during the tutorial"
   ]
  },
  {
   "cell_type": "code",
   "execution_count": 39,
   "id": "indonesian-onion",
   "metadata": {},
   "outputs": [],
   "source": [
    "# Tensors encode input and output of model. \"Similiar to\" ndarray (apparently no array implementation will ever be good enough for python developers)\n",
    "\n",
    "# Native data types\n",
    "data = [[1,2],[3,4]]\n",
    "x_data = torch.tensor(data)\n",
    "if PRINT_STAGES: print(x_data)\n",
    "\n",
    "# Friendly numpy types\n",
    "np_data = np.array([[1,2], [3,4]])\n",
    "x_np = torch.tensor(np_data)\n",
    "if PRINT_STAGES: print(x_np)\n",
    "\n",
    "# Becaues if tensorflow wraps np.ones, so must torch\n",
    "x_ones = torch.ones_like(x_np)\n",
    "x_float_ones = torch.ones_like(x_np, dtype=torch.float)\n",
    "if PRINT_STAGES: print(x_ones)\n",
    "    \n",
    "# We can define a shape and then ask for a tensor in that shape\n",
    "shape = (2,3)\n",
    "rand_tensor = torch.rand(shape)\n",
    "ones_tensor = torch.ones(shape)\n",
    "zeroes_tensor = torch.zeros(shape)\n",
    "if PRINT_STAGES: print(f\"{rand_tensor}\\n{ones_tensor}\\n{zeroes_tensor}\")"
   ]
  },
  {
   "cell_type": "code",
   "execution_count": 40,
   "id": "technological-somewhere",
   "metadata": {},
   "outputs": [],
   "source": [
    "# Attributes of tensors\n",
    "t_shape = rand_tensor.shape\n",
    "t_dtype = rand_tensor.dtype\n",
    "t_device = rand_tensor.device\n",
    "if PRINT_STAGES: print(f\"shape: {t_shape}\\ndtype: {t_dtype}\\nstorage location: {t_device}\")"
   ]
  },
  {
   "cell_type": "code",
   "execution_count": 66,
   "id": "suburban-potential",
   "metadata": {},
   "outputs": [
    {
     "name": "stdout",
     "output_type": "stream",
     "text": [
      "tensor([[0.5589, 0.0117, 0.2359, 0.5326, 0.3811, 0.2788],\n",
      "        [0.4215, 0.2789, 0.3673, 0.0311, 0.8317, 0.5956],\n",
      "        [0.4519, 0.7999, 0.4851, 0.9224, 0.2734, 0.2526],\n",
      "        [0.1695, 0.7240, 0.5257, 0.2690, 0.7462, 0.8543],\n",
      "        [0.7545, 0.2154, 0.4640, 0.5871, 0.4778, 0.2086],\n",
      "        [0.6005, 0.9177, 0.8428, 0.1404, 0.2093, 0.6247]])\n",
      "[:1]: tensor([[0.5589, 0.0117, 0.2359, 0.5326, 0.3811, 0.2788]])\n",
      "[:,0]: tensor([0.5589, 0.4215, 0.4519, 0.1695, 0.7545, 0.6005])\n",
      "[:,0]: tensor([100., 100., 100., 100., 100., 100.])\n",
      "[:,1]: tensor([[1.0000e+02, 1.1660e-02, 2.3592e-01, 5.3256e-01, 3.8113e-01, 2.7877e-01]])\n"
     ]
    }
   ],
   "source": [
    "# Tensor Operations\n",
    "tensor = torch.rand(2,2)\n",
    "if torch.cuda.is_available(): # if only WSL made this easy\n",
    "    tensor = tensor.to('cuda') \n",
    "\n",
    "# Obviously there are a whole bunch of tensor operations. Meet the whole gang here: https://pytorch.org/docs/stable/torch.html\n",
    "\n",
    "## A lot of tensor operations are similiar to numpy\n",
    "# Indexing/Slicing\n",
    "tensor = torch.rand(6,6)\n",
    "if PRINT_STAGES: print(tensor)\n",
    "first_row = tensor[:1]\n",
    "if PRINT_STAGES: print(f\"[:1]: {first_row}\")\n",
    "first_col = tensor[:,0]\n",
    "if PRINT_STAGES: print(f\"[:,0]: {first_col}\")\n",
    "tensor[:,0] = 100\n",
    "if PRINT_STAGES: print(f\"[:,0]: {first_col}\")\n",
    "if PRINT_STAGES: print(f\"[:,1]: {first_row}\")"
   ]
  },
  {
   "cell_type": "code",
   "execution_count": null,
   "id": "fiscal-heart",
   "metadata": {},
   "outputs": [],
   "source": []
  }
 ],
 "metadata": {
  "kernelspec": {
   "display_name": "Python 3",
   "language": "python",
   "name": "python3"
  },
  "language_info": {
   "codemirror_mode": {
    "name": "ipython",
    "version": 3
   },
   "file_extension": ".py",
   "mimetype": "text/x-python",
   "name": "python",
   "nbconvert_exporter": "python",
   "pygments_lexer": "ipython3",
   "version": "3.8.5"
  }
 },
 "nbformat": 4,
 "nbformat_minor": 5
}
